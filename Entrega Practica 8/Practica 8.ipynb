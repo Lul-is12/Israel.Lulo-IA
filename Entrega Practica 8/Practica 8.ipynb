{
 "cells": [
  {
   "cell_type": "markdown",
   "metadata": {},
   "source": [
    "# Problema de las 6 Ranas.\n",
    "## Descripción\n",
    "3 ranas cafe y 3 ranas verdes se encuetran a las orillas de 3 piedras (una rana en cada una) con una piedra de separacion de un grupo de ranas del otro.\n",
    "\n",
    "## Reglas:\n",
    "- Las 3 ranas verdes deben moverse a las piedras de la izquierda y las cafe a las de la derecha.\n",
    "- Las ranas pueden saltar a una roca vacia que tengan enfrente.\n",
    "- Puedes saltar sobre una rana, solo si dentras de está ahí una piedra vacía.\n",
    "- Las ranas no pueden regresar/retroceder.\n",
    "- No pueden saltar sobre 2 ranas.\n",
    "\n",
    "\n",
    "## Secuencia de percepción\n",
    "- [ C ].[ C ].[ C ].[   ].[ V ].[ V ].[ V ]\n",
    "- [ C ].[ C ].[ C ].[ V ].[   ].[ V ].[ V ]\n",
    "- [ C ].[ C ].[   ].[ V ].[ C ].[ V ].[ V ]\n",
    "- [ C ].[   ].[ C ].[ V ].[ C ].[ V ].[ V ]\n",
    "- [ C ].[ V ].[ C ].[   ].[ C ].[ V ].[ V ]\n",
    "- [ C ].[ V ].[ C ].[ V ].[ C ].[   ].[ V ]\n",
    "- [ C ].[ V ].[ C ].[ V ].[ C ].[ V ].[   ]\n",
    "- [ C ].[ V ].[ C ].[ V ].[   ].[ V ].[ C ]\n",
    "- [ C ].[ V ].[   ].[ V ].[ C ].[ V ].[ C ]\n",
    "- [   ].[ V ].[ C ].[ V ].[ C ].[ V ].[ C ]\n",
    "- [ V ].[   ].[ C ].[ V ].[ C ].[ V ].[ C ]\n",
    "- [ V ].[ V ].[ C ].[   ].[ C ].[ V ].[ C ]\n",
    "- [ V ].[ V ].[ C ].[ V ].[ C ].[   ].[ C ]\n",
    "- [ V ].[ V ].[ C ].[ V ].[   ].[ C ].[ C ]\n",
    "- [ V ].[ V ].[   ].[ V ].[ C ].[ C ].[ C ]\n",
    "- [ V ].[ V ].[ V ].[   ].[ C ].[ C ].[ C ]\n",
    "\n",
    "\n",
    "# Problema de los 3 monjes y 3 canibales\n",
    "## Descripción\n",
    "3 misioneros y 3 canibales deben pasar de una isla a otra con ayuda de un barco.\n",
    "## Reglas\n",
    "- No puede haber más canibales que misioneros.\n",
    "- Solo pueden ir 2 personas en el barco en cada viaje.\n",
    "\n",
    "## Secuencia de percepción\n",
    "- A [ 3 misioneros, 3 canibales ], B [ ], C[ ].\n",
    "- A [ 2 misioneros, 2 canibal ], B [ 1 misionero, 1 canibal ], C [ ].\n",
    "- A [ 2 misioneros, 2, canibales], B [ 1 misionero ], C [ 1 canibal].\n",
    "- A [ 3 misioneros ], B [ 2 canibales ], C [ 1 canibal ].\n",
    "- A [ 3 misioneros ], B [ 1 canibal ], C [2 canibales ].\n",
    "- A [ 1 misioneros, 1 canibal ], B [ 2 minioneros ], C [ 2 canibales ].\n",
    "- A [ 1 misionero, 1 canibal ], B [ 1 misionero, 1 canibal ], C [ 1 misionero, 1 canibal ].\n",
    "- A [ 2 canibales ], B [ 2 misioneros ], C [ 1 misionero, 1 canibal ].\n",
    "- A [ 2 canibales ], B [ 1 canibal ], C [ 3 misioneros ].\n",
    "- A [1 canibal ], B [ 2 canibales ], C [ 3 misioneros ].\n",
    "- A [ 1 canibal ], B [ 1 misionero ], C [ 2 misioneros,2 canibales ].\n",
    "- A [ ], B [ 1 misionero, 1 canibal ], C [ 2 misioneros,2 canibales ].\n",
    "- A [ ], B [ ], C [3 misioneros, 3 canibales]."
   ]
  }
 ],
 "metadata": {
  "kernelspec": {
   "display_name": "Python 3 (ipykernel)",
   "language": "python",
   "name": "python3"
  },
  "language_info": {
   "codemirror_mode": {
    "name": "ipython",
    "version": 3
   },
   "file_extension": ".py",
   "mimetype": "text/x-python",
   "name": "python",
   "nbconvert_exporter": "python",
   "pygments_lexer": "ipython3",
   "version": "3.10.6"
  }
 },
 "nbformat": 4,
 "nbformat_minor": 5
}
